{
 "cells": [
  {
   "cell_type": "code",
   "execution_count": 9,
   "id": "a5857503",
   "metadata": {},
   "outputs": [
    {
     "name": "stdout",
     "output_type": "stream",
     "text": [
      "(398, 9)\n"
     ]
    }
   ],
   "source": [
    "import pandas as pd\n",
    "\n",
    "# 자동차 연비 데이터 읽어 오기( header 없음)\n",
    "df = pd.read_csv(\"./auto-mpg.csv\", header=None)\n",
    "print(df.shape)"
   ]
  },
  {
   "cell_type": "code",
   "execution_count": 12,
   "id": "dbe64920",
   "metadata": {},
   "outputs": [
    {
     "name": "stdout",
     "output_type": "stream",
     "text": [
      "<class 'pandas.core.frame.DataFrame'>\n",
      "RangeIndex: 398 entries, 0 to 397\n",
      "Data columns (total 9 columns):\n",
      " #   Column        Non-Null Count  Dtype  \n",
      "---  ------        --------------  -----  \n",
      " 0   mpg           398 non-null    float64\n",
      " 1   cylinders     398 non-null    int64  \n",
      " 2   displacement  398 non-null    float64\n",
      " 3   horsepower    398 non-null    object \n",
      " 4   weight        398 non-null    float64\n",
      " 5   acceleration  398 non-null    float64\n",
      " 6   model year    398 non-null    int64  \n",
      " 7   origin        398 non-null    int64  \n",
      " 8   name          398 non-null    object \n",
      "dtypes: float64(4), int64(3), object(2)\n",
      "memory usage: 28.1+ KB\n",
      "None\n"
     ]
    }
   ],
   "source": [
    "# 자동차 연비 데이터에 header 적용하고 dataframe 일반 정보 출력(method)\n",
    "df.columns =  ['mpg','cylinders','displacement','horsepower','weight',\n",
    "              'acceleration','model year','origin','name']\n",
    "print(df.info())"
   ]
  },
  {
   "cell_type": "code",
   "execution_count": 8,
   "id": "700de240",
   "metadata": {},
   "outputs": [
    {
     "name": "stdout",
     "output_type": "stream",
     "text": [
      "mpg             float64\n",
      "cylinders         int64\n",
      "displacement    float64\n",
      "horsepower       object\n",
      "weight          float64\n",
      "acceleration    float64\n",
      "model year        int64\n",
      "origin            int64\n",
      "name             object\n",
      "dtype: object\n"
     ]
    }
   ],
   "source": [
    "# 데이터 열의 데이터 타입 확인(attr)\n",
    "print(df.dtypes)"
   ]
  },
  {
   "cell_type": "code",
   "execution_count": 14,
   "id": "b465877d",
   "metadata": {},
   "outputs": [
    {
     "name": "stdout",
     "output_type": "stream",
     "text": [
      "              mpg   cylinders  displacement       weight  acceleration  \\\n",
      "count  398.000000  398.000000    398.000000   398.000000    398.000000   \n",
      "mean    23.514573    5.454774    193.425879  2970.424623     15.568090   \n",
      "std      7.815984    1.701004    104.269838   846.841774      2.757689   \n",
      "min      9.000000    3.000000     68.000000  1613.000000      8.000000   \n",
      "25%     17.500000    4.000000    104.250000  2223.750000     13.825000   \n",
      "50%     23.000000    4.000000    148.500000  2803.500000     15.500000   \n",
      "75%     29.000000    8.000000    262.000000  3608.000000     17.175000   \n",
      "max     46.600000    8.000000    455.000000  5140.000000     24.800000   \n",
      "\n",
      "       model year      origin  \n",
      "count  398.000000  398.000000  \n",
      "mean    76.010050    1.572864  \n",
      "std      3.697627    0.802055  \n",
      "min     70.000000    1.000000  \n",
      "25%     73.000000    1.000000  \n",
      "50%     76.000000    1.000000  \n",
      "75%     79.000000    2.000000  \n",
      "max     82.000000    3.000000  \n",
      "\n",
      "               mpg   cylinders  displacement horsepower       weight  \\\n",
      "count   398.000000  398.000000    398.000000        398   398.000000   \n",
      "unique         NaN         NaN           NaN         94          NaN   \n",
      "top            NaN         NaN           NaN      150.0          NaN   \n",
      "freq           NaN         NaN           NaN         22          NaN   \n",
      "mean     23.514573    5.454774    193.425879        NaN  2970.424623   \n",
      "std       7.815984    1.701004    104.269838        NaN   846.841774   \n",
      "min       9.000000    3.000000     68.000000        NaN  1613.000000   \n",
      "25%      17.500000    4.000000    104.250000        NaN  2223.750000   \n",
      "50%      23.000000    4.000000    148.500000        NaN  2803.500000   \n",
      "75%      29.000000    8.000000    262.000000        NaN  3608.000000   \n",
      "max      46.600000    8.000000    455.000000        NaN  5140.000000   \n",
      "\n",
      "        acceleration  model year      origin        name  \n",
      "count     398.000000  398.000000  398.000000         398  \n",
      "unique           NaN         NaN         NaN         305  \n",
      "top              NaN         NaN         NaN  ford pinto  \n",
      "freq             NaN         NaN         NaN           6  \n",
      "mean       15.568090   76.010050    1.572864         NaN  \n",
      "std         2.757689    3.697627    0.802055         NaN  \n",
      "min         8.000000   70.000000    1.000000         NaN  \n",
      "25%        13.825000   73.000000    1.000000         NaN  \n",
      "50%        15.500000   76.000000    1.000000         NaN  \n",
      "75%        17.175000   79.000000    2.000000         NaN  \n",
      "max        24.800000   82.000000    3.000000         NaN  \n"
     ]
    }
   ],
   "source": [
    "# 데이터 열의 통계 데이터(수치정보), include='all' 문자 정보 포함 (method)\n",
    "print(df.describe())\n",
    "print()\n",
    "print(df.describe(include='all'))"
   ]
  },
  {
   "cell_type": "code",
   "execution_count": 17,
   "id": "b9ec5f19",
   "metadata": {},
   "outputs": [
    {
     "name": "stdout",
     "output_type": "stream",
     "text": [
      "mpg             398\n",
      "cylinders       398\n",
      "displacement    398\n",
      "horsepower      398\n",
      "weight          398\n",
      "acceleration    398\n",
      "model year      398\n",
      "origin          398\n",
      "name            398\n",
      "dtype: int64\n",
      "<class 'pandas.core.series.Series'>\n"
     ]
    }
   ],
   "source": [
    "# 데이터 열별 데이터 건수 : Nan 제외 (method)\n",
    "print(df.count())\n",
    "print(type(df.count()))"
   ]
  },
  {
   "cell_type": "code",
   "execution_count": 22,
   "id": "efe2fef8",
   "metadata": {},
   "outputs": [
    {
     "name": "stdout",
     "output_type": "stream",
     "text": [
      "1    249\n",
      "3     79\n",
      "2     70\n",
      "Name: origin, dtype: int64\n",
      "<class 'pandas.core.series.Series'>\n"
     ]
    }
   ],
   "source": [
    "# 특정 데이터 열 값 건수 : Nan 제외 (method)\n",
    "unique_values = df['origin'].value_counts()\n",
    "print(unique_values)\n",
    "print(type(unique_values))"
   ]
  },
  {
   "cell_type": "code",
   "execution_count": 29,
   "id": "4121af03",
   "metadata": {},
   "outputs": [
    {
     "name": "stdout",
     "output_type": "stream",
     "text": [
      "dataframe 전체 평균값==================================\n",
      "mpg               23.514573\n",
      "cylinders          5.454774\n",
      "displacement     193.425879\n",
      "weight          2970.424623\n",
      "acceleration      15.568090\n",
      "model year        76.010050\n",
      "origin             1.572864\n",
      "dtype: float64\n",
      "<class 'pandas.core.series.Series'>\n",
      "단일 열 전체 평균값==================================\n",
      "15.568090452261291\n",
      "<class 'float'>\n",
      "다중 열 전체 평균값==================================\n",
      "mpg         23.514573\n",
      "weight    2970.424623\n",
      "dtype: float64\n",
      "<class 'pandas.core.series.Series'>\n"
     ]
    },
    {
     "name": "stderr",
     "output_type": "stream",
     "text": [
      "C:\\Users\\frank\\AppData\\Local\\Temp\\ipykernel_9924\\2999936826.py:2: FutureWarning: Dropping of nuisance columns in DataFrame reductions (with 'numeric_only=None') is deprecated; in a future version this will raise TypeError.  Select only valid columns before calling the reduction.\n",
      "  min_all = df.mean()\n"
     ]
    }
   ],
   "source": [
    "print(\"dataframe 전체 평균값==================================\")\n",
    "mean_all = df.mean()\n",
    "print(mean_all)\n",
    "print(type(mean_all))\n",
    "print(\"단일 열 전체 평균값==================================\")\n",
    "mean_uq = df['acceleration'].mean()\n",
    "print(mean_uq)\n",
    "print(type(mean_uq))\n",
    "print(\"다중 열 전체 평균값==================================\")\n",
    "mean_ml = df[['mpg', 'weight']].mean()\n",
    "print(mean_ml)\n",
    "print(type(mean_ml))"
   ]
  },
  {
   "cell_type": "code",
   "execution_count": 30,
   "id": "eadefc63",
   "metadata": {},
   "outputs": [
    {
     "name": "stdout",
     "output_type": "stream",
     "text": [
      "dataframe 전체 중간값==================================\n",
      "mpg               23.0\n",
      "cylinders          4.0\n",
      "displacement     148.5\n",
      "weight          2803.5\n",
      "acceleration      15.5\n",
      "model year        76.0\n",
      "origin             1.0\n",
      "dtype: float64\n",
      "<class 'pandas.core.series.Series'>\n",
      "단일 열 전체 중간값==================================\n",
      "15.5\n",
      "<class 'float'>\n",
      "다중 열 전체 중간값==================================\n",
      "mpg         23.0\n",
      "weight    2803.5\n",
      "dtype: float64\n",
      "<class 'pandas.core.series.Series'>\n"
     ]
    },
    {
     "name": "stderr",
     "output_type": "stream",
     "text": [
      "C:\\Users\\frank\\AppData\\Local\\Temp\\ipykernel_9924\\451546784.py:2: FutureWarning: Dropping of nuisance columns in DataFrame reductions (with 'numeric_only=None') is deprecated; in a future version this will raise TypeError.  Select only valid columns before calling the reduction.\n",
      "  mid_all = df.median()\n"
     ]
    }
   ],
   "source": [
    "print(\"dataframe 전체 중간값==================================\")\n",
    "mid_all = df.median()\n",
    "print(mid_all)\n",
    "print(\"단일 열 전체 중간값==================================\")\n",
    "mid_uq = df['acceleration'].median()\n",
    "print(mid_uq)\n",
    "print(\"다중 열 전체 중간값==================================\")\n",
    "mid_ml = df[['mpg', 'weight']].median()\n",
    "print(mid_ml)"
   ]
  },
  {
   "cell_type": "code",
   "execution_count": 31,
   "id": "c0dee5ee",
   "metadata": {},
   "outputs": [
    {
     "name": "stdout",
     "output_type": "stream",
     "text": [
      "dataframe 전체 최대값==================================\n",
      "mpg                         46.6\n",
      "cylinders                      8\n",
      "displacement               455.0\n",
      "horsepower                     ?\n",
      "weight                    5140.0\n",
      "acceleration                24.8\n",
      "model year                    82\n",
      "origin                         3\n",
      "name            vw rabbit custom\n",
      "dtype: object\n",
      "단일 열 전체 최대값==================================\n",
      "24.8\n",
      "다중 열 전체 최대값==================================\n",
      "mpg         46.6\n",
      "weight    5140.0\n",
      "dtype: float64\n"
     ]
    }
   ],
   "source": [
    "print(\"dataframe 전체 최대값==================================\")\n",
    "max_all = df.max()\n",
    "print(max_all)\n",
    "print(\"단일 열 전체 최대값==================================\")\n",
    "max_uq = df['acceleration'].max()\n",
    "print(max_uq)\n",
    "print(\"다중 열 전체 최대값==================================\")\n",
    "max_ml = df[['mpg', 'weight']].max()\n",
    "print(max_ml)"
   ]
  },
  {
   "cell_type": "code",
   "execution_count": 33,
   "id": "d29912d4",
   "metadata": {},
   "outputs": [
    {
     "name": "stdout",
     "output_type": "stream",
     "text": [
      "dataframe 전체 최소값==================================\n",
      "mpg                                 9.0\n",
      "cylinders                             3\n",
      "displacement                       68.0\n",
      "horsepower                        100.0\n",
      "weight                           1613.0\n",
      "acceleration                        8.0\n",
      "model year                           70\n",
      "origin                                1\n",
      "name            amc ambassador brougham\n",
      "dtype: object\n",
      "단일 열 전체 최소값==================================\n",
      "8.0\n",
      "다중 열 전체 최소값==================================\n",
      "mpg          9.0\n",
      "weight    1613.0\n",
      "dtype: float64\n"
     ]
    }
   ],
   "source": [
    "print(\"dataframe 전체 최소값==================================\")\n",
    "min_all = df.min()\n",
    "print(min_all)\n",
    "print(\"단일 열 전체 최소값==================================\")\n",
    "min_uq = df['acceleration'].min()\n",
    "print(min_uq)\n",
    "print(\"다중 열 전체 최소값==================================\")\n",
    "min_ml = df[['mpg', 'weight']].min()\n",
    "print(min_ml)"
   ]
  },
  {
   "cell_type": "code",
   "execution_count": 35,
   "id": "b6bcf02b",
   "metadata": {},
   "outputs": [
    {
     "name": "stdout",
     "output_type": "stream",
     "text": [
      "dataframe 전체 표준편차==================================\n",
      "mpg               7.815984\n",
      "cylinders         1.701004\n",
      "displacement    104.269838\n",
      "weight          846.841774\n",
      "acceleration      2.757689\n",
      "model year        3.697627\n",
      "origin            0.802055\n",
      "dtype: float64\n",
      "단일 열 전체 표준편차==================================\n",
      "2.7576889298126757\n",
      "다중 열 전체 표준편차==================================\n",
      "mpg         7.815984\n",
      "weight    846.841774\n",
      "dtype: float64\n"
     ]
    },
    {
     "name": "stderr",
     "output_type": "stream",
     "text": [
      "C:\\Users\\frank\\AppData\\Local\\Temp\\ipykernel_9924\\3914224508.py:2: FutureWarning: Dropping of nuisance columns in DataFrame reductions (with 'numeric_only=None') is deprecated; in a future version this will raise TypeError.  Select only valid columns before calling the reduction.\n",
      "  std_all = df.std()\n"
     ]
    }
   ],
   "source": [
    "print(\"dataframe 전체 표준편차==================================\")\n",
    "std_all = df.std()\n",
    "print(std_all)\n",
    "print(\"단일 열 전체 표준편차==================================\")\n",
    "std_uq = df['acceleration'].std()\n",
    "print(std_uq)\n",
    "print(\"다중 열 전체 표준편차==================================\")\n",
    "std_ml = df[['mpg', 'weight']].std()\n",
    "print(std_ml)"
   ]
  },
  {
   "cell_type": "code",
   "execution_count": 37,
   "id": "9e2046a4",
   "metadata": {},
   "outputs": [
    {
     "name": "stdout",
     "output_type": "stream",
     "text": [
      "dataframe 전체 상관계수==================================\n",
      "                   mpg  cylinders  displacement    weight  acceleration  \\\n",
      "mpg           1.000000  -0.775396     -0.804203 -0.831741      0.420289   \n",
      "cylinders    -0.775396   1.000000      0.950721  0.896017     -0.505419   \n",
      "displacement -0.804203   0.950721      1.000000  0.932824     -0.543684   \n",
      "weight       -0.831741   0.896017      0.932824  1.000000     -0.417457   \n",
      "acceleration  0.420289  -0.505419     -0.543684 -0.417457      1.000000   \n",
      "model year    0.579267  -0.348746     -0.370164 -0.306564      0.288137   \n",
      "origin        0.563450  -0.562543     -0.609409 -0.581024      0.205873   \n",
      "\n",
      "              model year    origin  \n",
      "mpg             0.579267  0.563450  \n",
      "cylinders      -0.348746 -0.562543  \n",
      "displacement   -0.370164 -0.609409  \n",
      "weight         -0.306564 -0.581024  \n",
      "acceleration    0.288137  0.205873  \n",
      "model year      1.000000  0.180662  \n",
      "origin          0.180662  1.000000  \n",
      "단일 열 전체 상관계수================================== Error\n",
      "다중 열 전체 상관계수==================================\n",
      "             mpg    weight\n",
      "mpg     1.000000 -0.831741\n",
      "weight -0.831741  1.000000\n"
     ]
    }
   ],
   "source": [
    "print(\"dataframe 전체 상관계수==================================\")\n",
    "corr_all = df.corr()\n",
    "print(corr_all)\n",
    "print(\"단일 열 전체 상관계수================================== Error\")\n",
    "# corr_uq = df['acceleration'].corr()\n",
    "# print(corr_uq)\n",
    "print(\"다중 열 전체 상관계수==================================\")\n",
    "corr_ml = df[['mpg', 'weight']].corr()\n",
    "print(corr_ml)"
   ]
  }
 ],
 "metadata": {
  "kernelspec": {
   "display_name": "Python 3 (ipykernel)",
   "language": "python",
   "name": "python3"
  },
  "language_info": {
   "codemirror_mode": {
    "name": "ipython",
    "version": 3
   },
   "file_extension": ".py",
   "mimetype": "text/x-python",
   "name": "python",
   "nbconvert_exporter": "python",
   "pygments_lexer": "ipython3",
   "version": "3.9.13"
  }
 },
 "nbformat": 4,
 "nbformat_minor": 5
}
